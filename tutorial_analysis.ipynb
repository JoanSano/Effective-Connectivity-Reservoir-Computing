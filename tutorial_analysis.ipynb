{
 "cells": [
  {
   "cell_type": "markdown",
   "metadata": {},
   "source": [
    "# Estimating the effective connectivity in your dataset"
   ]
  },
  {
   "cell_type": "markdown",
   "metadata": {},
   "source": [
    "### Using whole-brain Reservoir Computing Causality"
   ]
  },
  {
   "cell_type": "code",
   "execution_count": 3,
   "metadata": {},
   "outputs": [],
   "source": [
    "from methods.effective_connectivity import RCC\n",
    "\n",
    "# Use a json file for config\n",
    "args = \"./args.json\"\n",
    "\n",
    "# Create a dict for config\n",
    "\"\"\" args = {\n",
    "    \"dir\": \"./Datasets/Logistic\",\n",
    "    \"r_folder\": \"Results_test\",\n",
    "    \"num_jobs\": 1,\n",
    "    \"blocks\": \"vanilla\",\n",
    "    \"num_blocks\": None,\n",
    "    \"split\": 80,\n",
    "    \"skip\": 5,\n",
    "    \"length\": 100,\n",
    "    \"subjects\": [\"sub-11_logistic_TS\", \"sub-12_logistic_TS\"],\n",
    "    \"rois\": [-1],\n",
    "    \"num_surrogates\": 100,\n",
    "    \"min_lag\": -20,\n",
    "    \"max_lag\": 21,\n",
    "    \"runs\": 20,\n",
    "    \"logistic\": True\n",
    "} \"\"\"\n",
    "\n",
    "# Create instance of RCC\n",
    "ReservoirComputingCausality = RCC(args=args)"
   ]
  },
  {
   "cell_type": "code",
   "execution_count": 4,
   "metadata": {},
   "outputs": [
    {
     "name": "stdout",
     "output_type": "stream",
     "text": [
      "Files/subjects to process:  ['./Datasets/Logistic/sub-11_logistic_TS.txt', './Datasets/Logistic/sub-12_logistic_TS.txt']\n",
      "Directory were the results will appear:  /home/joanfr/Documents/Git-Repos/Effective-Connectivity-Reservoir-Computing/Results_test\n",
      "Reservoir(s) configuration: \n",
      " InputToNode(bias_scaling=1, bias_shift=0, hidden_layer_size=50,\n",
      "            input_activation='logistic', input_scaling=1, input_shift=0, k_in=1,\n",
      "            random_state=None) \n",
      " NodeToNode(hidden_layer_size=50, leakage=1, random_state=None, sparsity=1,\n",
      "           spectral_radius=1)\n",
      "You can customize on the fly the ROIs to study by modifying the 'ReservoirComputingCausality.ROIs' property!\n",
      "etc.\n"
     ]
    }
   ],
   "source": [
    "# Access attributes to see what the method will be run upon\n",
    "print(\"Files/subjects to process: \", ReservoirComputingCausality.files)\n",
    "print(\"Directory were the results will appear: \", ReservoirComputingCausality.output_dir)\n",
    "print(\"Reservoir(s) configuration: \\n\", ReservoirComputingCausality.I2N, \"\\n\", ReservoirComputingCausality.N2N)\n",
    "print(\"You can customize on the fly the ROIs to study by modifying the 'ReservoirComputingCausality.ROIs' property!\")\n",
    "print(\"etc.\")"
   ]
  },
  {
   "cell_type": "code",
   "execution_count": 5,
   "metadata": {},
   "outputs": [
    {
     "name": "stdout",
     "output_type": "stream",
     "text": [
      "Participant ID: sub-11_logistic_Length-100_Method-RCC\n",
      "Loading data\n",
      "Done!\n",
      "-----\n",
      "Computing reservoir scores and evidence\n",
      "Training reservoirs for ROIs [0,1]\n",
      "Done!\n",
      "-----\n",
      "Training surrogate reservoirs for ROIs [0,1]\n"
     ]
    },
    {
     "name": "stderr",
     "output_type": "stream",
     "text": [
      "  0%|          | 0/100 [00:00<?, ?it/s]"
     ]
    },
    {
     "name": "stdout",
     "output_type": "stream",
     "text": [
      "WARNING: No convergence! Returning possibly invalid values!!!\n"
     ]
    },
    {
     "name": "stderr",
     "output_type": "stream",
     "text": [
      " 15%|█▌        | 15/100 [00:53<05:05,  3.59s/it]"
     ]
    },
    {
     "name": "stdout",
     "output_type": "stream",
     "text": [
      "WARNING: No convergence! Returning possibly invalid values!!!\n"
     ]
    },
    {
     "name": "stderr",
     "output_type": "stream",
     "text": [
      " 27%|██▋       | 27/100 [01:37<04:25,  3.63s/it]"
     ]
    },
    {
     "name": "stdout",
     "output_type": "stream",
     "text": [
      "WARNING: No convergence! Returning possibly invalid values!!!\n"
     ]
    },
    {
     "name": "stderr",
     "output_type": "stream",
     "text": [
      " 32%|███▏      | 32/100 [01:55<04:06,  3.62s/it]"
     ]
    },
    {
     "name": "stdout",
     "output_type": "stream",
     "text": [
      "WARNING: No convergence! Returning possibly invalid values!!!\n"
     ]
    },
    {
     "name": "stderr",
     "output_type": "stream",
     "text": [
      " 53%|█████▎    | 53/100 [03:11<02:49,  3.60s/it]"
     ]
    },
    {
     "name": "stdout",
     "output_type": "stream",
     "text": [
      "WARNING: No convergence! Returning possibly invalid values!!!\n"
     ]
    },
    {
     "name": "stderr",
     "output_type": "stream",
     "text": [
      " 60%|██████    | 60/100 [03:36<02:22,  3.56s/it]"
     ]
    },
    {
     "name": "stdout",
     "output_type": "stream",
     "text": [
      "WARNING: No convergence! Returning possibly invalid values!!!\n"
     ]
    },
    {
     "name": "stderr",
     "output_type": "stream",
     "text": [
      "100%|██████████| 100/100 [06:02<00:00,  3.62s/it]"
     ]
    },
    {
     "name": "stdout",
     "output_type": "stream",
     "text": [
      "Done!\n",
      "-----\n",
      "Estimating the directionality for ROIs [0,1]\n",
      "Done!\n",
      "-----\n",
      "Saving the summary for ROIs [0,1]\n",
      "Done!\n",
      "-----\n",
      "Subject finished!\n",
      "-------------------------------\n"
     ]
    },
    {
     "name": "stderr",
     "output_type": "stream",
     "text": [
      "\n"
     ]
    }
   ],
   "source": [
    "# Fit a single subject\n",
    "f = ReservoirComputingCausality.files[0]\n",
    "name_f = ReservoirComputingCausality.fit_subject(f, run_self_loops=False, factor=10, verbose=True)"
   ]
  },
  {
   "cell_type": "code",
   "execution_count": null,
   "metadata": {},
   "outputs": [],
   "source": [
    "# Or fit the whole dataset\n",
    "ReservoirComputingCausality.fit_dataset(run_self_loops=False, factor=10)"
   ]
  },
  {
   "cell_type": "markdown",
   "metadata": {},
   "source": [
    "### Using Bivariate Granger causality"
   ]
  },
  {
   "cell_type": "code",
   "execution_count": 1,
   "metadata": {},
   "outputs": [],
   "source": [
    "from methods.effective_connectivity import bivariate_GC\n",
    "\n",
    "# Use a json file for config\n",
    "# args = \"./args.json\"\n",
    "\n",
    "# Create a dict for config\n",
    "args = {\n",
    "    \"dir\": \"./Datasets/Logistic\",\n",
    "    \"r_folder\": \"Results_test_bivGC\",\n",
    "    \"num_jobs\": 1,\n",
    "    \"length\": 100,\n",
    "    \"subjects\": [\"sub-11_logistic_TS\", \"sub-12_logistic_TS\"],\n",
    "    \"rois\": [-1],\n",
    "    \"min_lag\": -20,\n",
    "    \"logistic\": True\n",
    "}\n",
    "\n",
    "# Create instance of Bivariate GC\n",
    "BivariateGrangerCausality = bivariate_GC(args=args)"
   ]
  },
  {
   "cell_type": "code",
   "execution_count": 2,
   "metadata": {},
   "outputs": [
    {
     "name": "stdout",
     "output_type": "stream",
     "text": [
      "Participant ID: sub-11_logistic_Length-100_Method-bivGC\n",
      "Loading data\n",
      "Done!\n",
      "-----\n",
      "Computing bivariate Granger influence\n",
      "Estimating the directionality for ROIs [0,1]\n",
      "Done!\n",
      "-----\n",
      "Saving the summary for ROIs [0,1]\n",
      "Done!\n",
      "-----\n",
      "Subject finished!\n",
      "-------------------------------\n"
     ]
    },
    {
     "name": "stderr",
     "output_type": "stream",
     "text": [
      "/home/joanfr/miniconda3/envs/RCC/lib/python3.10/site-packages/statsmodels/tsa/stattools.py:1545: FutureWarning: verbose is deprecated since functions should not print results\n",
      "  warnings.warn(\n"
     ]
    }
   ],
   "source": [
    "# Fit a single subject\n",
    "f = BivariateGrangerCausality.files[0]\n",
    "name_f = BivariateGrangerCausality.fit_subject(f, run_self_loops=False, make_stationary=False, verbose=True)"
   ]
  },
  {
   "cell_type": "code",
   "execution_count": 3,
   "metadata": {},
   "outputs": [
    {
     "name": "stdout",
     "output_type": "stream",
     "text": [
      "============= Sequential processing =================\n",
      "INFO: \t Parallel or sequential processing depends on the input arguments --num_jobs\n",
      "Participant ID: sub-11_logistic_Length-100_Method-bivGC\n",
      "Subject finished!\n",
      "-------------------------------\n",
      "Participant ID: sub-12_logistic_Length-100_Method-bivGC\n",
      "Subject finished!\n",
      "-------------------------------\n"
     ]
    }
   ],
   "source": [
    "# Or fit the whole dataset\n",
    "BivariateGrangerCausality.fit_dataset(run_self_loops=False, make_stationary=False)"
   ]
  },
  {
   "cell_type": "markdown",
   "metadata": {},
   "source": [
    "# Retrospective analyses of the estimation process"
   ]
  },
  {
   "cell_type": "code",
   "execution_count": 1,
   "metadata": {},
   "outputs": [],
   "source": [
    "from analysis.effective_connectivity import Subject_Effective_Connectivity\n",
    "import matplotlib.pyplot as plt\n",
    "#dir = \"Results_test/\"\n",
    "dir = \"Results_test_bivGC/\"\n",
    "name_subject = 'sub-11_logistic_Length-100_Method-bivGC'\n",
    "ROI_Labels = {1: \"Node 1\", 2: \"Node 2\"}\n",
    "ob = Subject_Effective_Connectivity(dir, name_subject, ROI_Labels=ROI_Labels)"
   ]
  },
  {
   "cell_type": "code",
   "execution_count": 4,
   "metadata": {},
   "outputs": [
    {
     "data": {
      "image/png": "[encoded data removed]",
      "text/plain": [
       "<Figure size 600x400 with 1 Axes>"
      ]
     },
     "metadata": {},
     "output_type": "display_data"
    }
   ],
   "source": [
    "roi_i, roi_j = 1,2\n",
    "x_label = r\"$\\tau$ (TR)\"\n",
    "score_label = r\"$F$\"\n",
    "title = \"Pairwise interactions at different lags\"\n",
    "ob.plot_interaction_ij(roi_i, roi_j, x_label=x_label, title=title, score_label=score_label, ylims=(0,3))"
   ]
  },
  {
   "cell_type": "code",
   "execution_count": 4,
   "metadata": {},
   "outputs": [
    {
     "data": {
      "text/plain": [
       "{(1, 2): 0.9991834418086821, (2, 1): 0.4779234359059429}"
      ]
     },
     "execution_count": 4,
     "metadata": {},
     "output_type": "execute_result"
    }
   ],
   "source": [
    "Gs, As = ob.Lagged_Networks(weighted=True)\n",
    "import networkx as nx\n",
    "nx.get_edge_attributes(Gs[-20], 'weight')"
   ]
  },
  {
   "cell_type": "code",
   "execution_count": 5,
   "metadata": {},
   "outputs": [
    {
     "data": {
      "text/plain": [
       "array([[0.        , 0.99918344],\n",
       "       [0.47792344, 0.        ]])"
      ]
     },
     "execution_count": 5,
     "metadata": {},
     "output_type": "execute_result"
    }
   ],
   "source": [
    "As[-20]"
   ]
  },
  {
   "cell_type": "code",
   "execution_count": 6,
   "metadata": {},
   "outputs": [
    {
     "data": {
      "image/png": "[encoded data removed]",
      "text/plain": [
       "<Figure size 640x480 with 1 Axes>"
      ]
     },
     "metadata": {},
     "output_type": "display_data"
    }
   ],
   "source": [
    "import networkx as nx\n",
    "pos = nx.spring_layout(Gs[-20])\n",
    "labels = nx.get_edge_attributes(Gs[-20],'weight')\n",
    "nx.draw_networkx_edge_labels(Gs[-20], pos, edge_labels=labels)\n",
    "\n",
    "# Make the graph\n",
    "nx.draw(Gs[-20], with_labels=True, font_weight=\"bold\", arrows=True)\n"
   ]
  }
 ],
 "metadata": {
  "kernelspec": {
   "display_name": "RCC",
   "language": "python",
   "name": "python3"
  },
  "language_info": {
   "codemirror_mode": {
    "name": "ipython",
    "version": 3
   },
   "file_extension": ".py",
   "mimetype": "text/x-python",
   "name": "python",
   "nbconvert_exporter": "python",
   "pygments_lexer": "ipython3",
   "version": "3.10.13"
  }
 },
 "nbformat": 4,
 "nbformat_minor": 2
}
