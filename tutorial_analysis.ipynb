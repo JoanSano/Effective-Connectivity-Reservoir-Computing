{
 "cells": [
  {
   "cell_type": "markdown",
   "metadata": {},
   "source": [
    "# Estimating the effective connectivity in your dataset"
   ]
  },
  {
   "cell_type": "code",
   "execution_count": null,
   "metadata": {},
   "outputs": [],
   "source": [
    "from utils.handle_arguments import initialize_and_grep_files  \n",
    "from methods.effective_connectivity import RCC\n",
    "\n",
    "# Use a json file for config\n",
    "args = \"./args.json\"\n",
    "\n",
    "# Create a dict for config\n",
    "\"\"\" args = {\n",
    "    \"dir\": \"./Datasets/Logistic\",\n",
    "    \"r_folder\": \"Results_test\",\n",
    "    \"num_jobs\": 1,\n",
    "    \"blocks\": \"vanilla\",\n",
    "    \"num_blocks\": None,\n",
    "    \"split\": 80,\n",
    "    \"skip\": 5,\n",
    "    \"length\": 100,\n",
    "    \"subjects\": [\"sub-11_logistic_TS\", \"sub-12_logistic_TS\"],\n",
    "    \"rois\": [-1],\n",
    "    \"num_surrogates\": 100,\n",
    "    \"min_lag\": -20,\n",
    "    \"max_lag\": 21,\n",
    "    \"plot\": True,\n",
    "    \"runs\": 20,\n",
    "    \"logistic\": True\n",
    "} \"\"\"\n",
    "\n",
    "# Create instance of RCC\n",
    "ReservoirComputingCausality = RCC(args=args)"
   ]
  },
  {
   "cell_type": "code",
   "execution_count": null,
   "metadata": {},
   "outputs": [],
   "source": [
    "# Access attributes to see what the method will be run upon\n",
    "print(\"Files/subjects to process: \", ReservoirComputingCausality.files)\n",
    "print(\"Directory were the results will appear: \", ReservoirComputingCausality.output_dir)\n",
    "print(\"Reservoir(s) configuration: \\n\", ReservoirComputingCausality.I2N, \"\\n\", ReservoirComputingCausality.N2N)\n",
    "print(\"You can customize on the fly the ROIs to study by modifying the 'ReservoirComputingCausality.ROIs' property!\")\n",
    "print(\"etc.\")"
   ]
  },
  {
   "cell_type": "code",
   "execution_count": null,
   "metadata": {},
   "outputs": [],
   "source": [
    "# Fit a single subject\n",
    "f = ReservoirComputingCausality.files[0]\n",
    "ReservoirComputingCausality.fit_subject(f, run_self_loops=False, format='png', factor=10, verbose=True)"
   ]
  },
  {
   "cell_type": "code",
   "execution_count": null,
   "metadata": {},
   "outputs": [],
   "source": [
    "# Or fit the whole dataset\n",
    "ReservoirComputingCausality.fit_dataset(run_self_loops=False, format='png', factor=10)"
   ]
  },
  {
   "cell_type": "markdown",
   "metadata": {},
   "source": [
    "# Retrospective analyses of the estimation process"
   ]
  },
  {
   "cell_type": "code",
   "execution_count": null,
   "metadata": {},
   "outputs": [],
   "source": [
    "from analysis.effective_connectivity import Subject_Effective_Connectivity\n",
    "import matplotlib.pyplot as plt\n",
    "dir = \"Results_test/\"\n",
    "name_subject = 'sub-17_logistic_Length-100_Method-RCC'\n",
    "ROI_Labels = {1: \"Node 1\", 2: \"Node 2\"}\n",
    "ob = Subject_Effective_Connectivity(dir, name_subject, ROI_Labels=ROI_Labels)"
   ]
  },
  {
   "cell_type": "code",
   "execution_count": null,
   "metadata": {},
   "outputs": [],
   "source": [
    "roi_i, roi_j = 1,2\n",
    "x_label = r\"$\\tau$ (TR)\"\n",
    "title = \"Pairwise interactions at different lags\"\n",
    "ob.plot_interaction_ij(roi_i, roi_j, x_label=x_label, title=title)"
   ]
  },
  {
   "cell_type": "code",
   "execution_count": null,
   "metadata": {},
   "outputs": [],
   "source": [
    "Gs, As = ob.Lagged_Networks(weighted=True)"
   ]
  },
  {
   "cell_type": "code",
   "execution_count": null,
   "metadata": {},
   "outputs": [],
   "source": [
    "import networkx as nx\n",
    "nx.get_edge_attributes(Gs[-20], 'weight')"
   ]
  },
  {
   "cell_type": "code",
   "execution_count": null,
   "metadata": {},
   "outputs": [],
   "source": [
    "As[-20]"
   ]
  },
  {
   "cell_type": "code",
   "execution_count": null,
   "metadata": {},
   "outputs": [],
   "source": [
    "import networkx as nx\n",
    "pos = nx.spring_layout(Gs[-20])\n",
    "labels = nx.get_edge_attributes(Gs[-20],'weight')\n",
    "nx.draw_networkx_edge_labels(Gs[-20], pos, edge_labels=labels)\n",
    "\n",
    "# Make the graph\n",
    "nx.draw(Gs[-20], with_labels=True, font_weight=\"bold\", arrows=True)\n"
   ]
  }
 ],
 "metadata": {
  "kernelspec": {
   "display_name": "RCC",
   "language": "python",
   "name": "python3"
  },
  "language_info": {
   "codemirror_mode": {
    "name": "ipython",
    "version": 3
   },
   "file_extension": ".py",
   "mimetype": "text/x-python",
   "name": "python",
   "nbconvert_exporter": "python",
   "pygments_lexer": "ipython3",
   "version": "3.10.13"
  }
 },
 "nbformat": 4,
 "nbformat_minor": 2
}
