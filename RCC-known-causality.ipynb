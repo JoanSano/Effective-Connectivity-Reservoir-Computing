{
 "cells": [
  {
   "attachments": {},
   "cell_type": "markdown",
   "metadata": {
    "pycharm": {
     "name": "#%% md\n"
    }
   },
   "source": [
    "# Effective Connectivity Estimated With (Deep) Echo State Networks \n",
    "\n",
    "Initially we try the method with artificially generated data to uncover causal relationships. Once we are sure that the Echo State Network is able to learn trivial causal relationships, we train it with real fMRI time series."
   ]
  },
  {
   "cell_type": "code",
   "execution_count": 1,
   "metadata": {},
   "outputs": [],
   "source": [
    "import numpy as np\n",
    "import matplotlib.pylab as plt\n",
    "from pyrcn.base.blocks import InputToNode, NodeToNode\n",
    "from pyrcn.echo_state_network import ESNRegressor\n",
    "\n",
    "from utils.training_utils import *\n",
    "from execution.RCC_utils import *\n",
    "from utils.plotting_utils import plot_RCC_Evidence\n",
    "from execution.reservoir_networks import *\n",
    "\n",
    "runs = 4"
   ]
  },
  {
   "cell_type": "markdown",
   "metadata": {
    "pycharm": {
     "name": "#%% md\n"
    }
   },
   "source": [
    "### Unidirectional causal relationship\n",
    "\n",
    "- $x(t+1) = x(t) \\left[ 3.78 - 3.78 x(t) \\right]$\n",
    "- $y(t+1) = y(t) \\left[ 3.77 - 3.77 y(t) + C_{\\tau_d}x(t-\\tau_d) \\right]$ \n",
    "\n",
    "where $\\tau_d$ is the time lag and $C_{\\tau_d}$ is the causal coupling."
   ]
  },
  {
   "cell_type": "code",
   "execution_count": 2,
   "metadata": {
    "pycharm": {
     "name": "#%%\n"
    }
   },
   "outputs": [],
   "source": [
    "N_points, t_lag, coupling = 7000, 10, -0.8\n",
    "time_points = range(0, N_points)\n",
    "x, y = [], []\n",
    "x0, y0 = 0.1, 0.2\n",
    "x.append(x0), y.append(y0)\n",
    "\n",
    "for i in range(1, N_points):\n",
    "    xi = x[i-1]*(3.78-3.78*x[i-1])\n",
    "    yi = y[i-1]*(3.77-3.77*y[i-1])\n",
    "    if i >= t_lag:\n",
    "        yi += coupling*y[i-1]*x[i-t_lag]\n",
    "    xi, yi = round(xi, 10), round(yi,10)\n",
    "    x.append(xi), y.append(yi)\n",
    "x, y = np.array(x), np.array(y)\n",
    "\n",
    "# Data needs to be loaded with shape: (Nsamples,Time-points)\n",
    "x, y = np.expand_dims(x, axis=0), np.expand_dims(y, axis=0)"
   ]
  },
  {
   "cell_type": "code",
   "execution_count": 3,
   "metadata": {},
   "outputs": [],
   "source": [
    "#### Input to Node object (see PyRCN docs for info about the meanings) ####\n",
    "I2N_config = { \n",
    "    \"layer_size\": 50,\n",
    "    \"sparsity\": 0.3,\n",
    "    \"activation\": \"identity\",\n",
    "    \"scaling\": 1,\n",
    "    \"shift\": 0,\n",
    "    \"bias_scaling\": 1,\n",
    "    \"bias_shift\": 0,\n",
    "    \"random_seed\": None #42\n",
    "}\n",
    "\n",
    "#### Node to Node object (see PyRCN docs for info about the meanings) ####\n",
    "N2N_config = {\n",
    "    \"layer_size\": 50,\n",
    "    \"sparsity\": 1,\n",
    "    \"activation\": \"logistic\",\n",
    "    \"spectral_radius\": 1,\n",
    "    \"leakage\": 1,\n",
    "    \"bidirectional\": False,\n",
    "    \"random_seed\": None #42\n",
    "}\n",
    "\n",
    "# We define the reservoir architecture\n",
    "I2N_Vanilla = Vanilla_input2node(I2N_config)\n",
    "N2N_Vanilla = Vanilla_node2node(N2N_config)"
   ]
  },
  {
   "cell_type": "code",
   "execution_count": 5,
   "metadata": {},
   "outputs": [],
   "source": [
    "# Lags to test\n",
    "lags = np.arange(-30,31)\n",
    "\n",
    "# Run RCC statistics -- Note: If it is only one sample then no statistics will be run\n",
    "mean_x2y, mean_y2x, _, _ = RCC_average(x, y, lags, I2N_Vanilla, N2N_Vanilla, split=75, skip=20, shuffle=False, axis=1, runs=4, average=True)"
   ]
  },
  {
   "cell_type": "code",
   "execution_count": 12,
   "metadata": {},
   "outputs": [],
   "source": [
    "# Plot Causality\n",
    "plot_RCC_Evidence(\n",
    "    lags,\n",
    "    {\"data\": mean_x2y[:,0], \"error\": mean_x2y[:,0]*0, \"label\": r\"$\\rho_{XY}$\", \"color\": \"darkorange\", \"style\": \"-\", \"linewidth\": 1, \"alpha\": 1}, \n",
    "    {\"data\": mean_y2x[:,0], \"error\": mean_x2y[:,0]*0, \"label\": r\"$\\rho_{YX}$\", \"color\": \"green\", \"style\": \"-\", \"linewidth\": 1, \"alpha\": 1}, \n",
    "    dpi=400, y_label=\"Scores\", x_label=r\"$\\tau$\"+\"(steps)\", limits=(0,1), save=\"./simple.svg\"\n",
    "    #significance_marks=[\n",
    "    #{\"data\": evidence_x2y, \"color\": \"blue\", \"label\": x2ylabel},\n",
    "    #{\"data\": evidence_y2x, \"color\": \"red\", \"label\": y2xlabel}\n",
    "    #    ]\n",
    "    )"
   ]
  },
  {
   "attachments": {},
   "cell_type": "markdown",
   "metadata": {},
   "source": [
    "### Bidirectional causal relationship \n",
    "- $x(t+1) = x(t) \\left[ 3.78 - 3.78 x(t) + C^{y\\rightarrow x}_{\\tau_d}y(t-\\tau^{y\\rightarrow x}_d) \\right]$\n",
    "- $y(t+1) = y(t) \\left[ 3.77 - 3.77 y(t) + C^{x\\rightarrow y}_{\\tau_d}x(t-\\tau^{x\\rightarrow y}_d) \\right]$\n",
    "\n",
    "Although the causal relationships are a bit more complex, the same Reserervoir Network achieves identical results to more sophisticated architectures. For weaker couplings we start to see effects (not clear yet) on the ability to disentangle causal relationships, although the number of neurons remain to be the most sensitive parameter. The effect of the number of neurons as well as the topology of the recurrent weights in the reservoir might also be important, but has previously been studied (Huang, et al. 2020). Here we build on that by adding modularity to the reservoir architecture.\n",
    "\n",
    "An interesting case arises when $C^{y\\rightarrow x}_{\\tau_d} = -0.82$ and $C^{x\\rightarrow y}_{\\tau_d}=-0.02$, that is, when one causal direction is very clear while not the other. \n",
    "\n",
    "It's also interesting to see that the width of the peaks seem to be inversely proportional to the strength of the coupling."
   ]
  },
  {
   "cell_type": "code",
   "execution_count": 13,
   "metadata": {},
   "outputs": [],
   "source": [
    "N_points = 7000 \n",
    "t_lag_x2y, coupling_x2y = 2, -0.02\n",
    "t_lag_y2x, coupling_y2x = 8, -0.82\n",
    "\n",
    "time_points = range(0, N_points)\n",
    "x, y = [], []\n",
    "x0, y0 = 0.1, 0.2\n",
    "x.append(x0), y.append(y0)\n",
    "\n",
    "for i in range(1, N_points):\n",
    "    xi = x[i-1]*(3.78-3.78*x[i-1])\n",
    "    yi = y[i-1]*(3.77-3.77*y[i-1])\n",
    "    if i >= t_lag_y2x:\n",
    "        xi += coupling_y2x * x[i-1] * y[i-t_lag_y2x]\n",
    "    if i >= t_lag_x2y:\n",
    "        yi += coupling_x2y * y[i-1] * x[i-t_lag_x2y]\n",
    "    xi, yi = round(xi, 10), round(yi,10)\n",
    "    x.append(xi), y.append(yi)\n",
    "x, y = np.array(x), np.array(y)\n",
    "# Data needs to be loaded with shape: (Nsamples,Time-points)\n",
    "x, y = np.expand_dims(x, axis=0), np.expand_dims(y, axis=0)"
   ]
  },
  {
   "cell_type": "code",
   "execution_count": 14,
   "metadata": {},
   "outputs": [],
   "source": [
    "#### Input to Node object (see PyRCN docs for info about the meanings) ####\n",
    "I2N_config = { \n",
    "    \"layer_size\": 200,\n",
    "    \"sparsity\": 0.3,\n",
    "    \"activation\": \"identity\",\n",
    "    \"scaling\": 1,\n",
    "    \"shift\": 0,\n",
    "    \"bias_scaling\": 1,\n",
    "    \"bias_shift\": 0,\n",
    "    \"random_seed\": None #42\n",
    "}\n",
    "\n",
    "#### Node to Node object (see PyRCN docs for info about the meanings) ####\n",
    "N2N_config = {\n",
    "    \"layer_size\": 200,\n",
    "    \"sparsity\": 1,\n",
    "    \"activation\": \"logistic\",\n",
    "    \"spectral_radius\": 1,\n",
    "    \"leakage\": 1,\n",
    "    \"bidirectional\": False,\n",
    "    \"random_seed\": None #42\n",
    "}\n",
    "\n",
    "######\n",
    "### Defining vanilla input2node and node2node blocks ###\n",
    "I2N_Vanilla = Vanilla_input2node(I2N_config)\n",
    "N2N_Vanilla = Vanilla_node2node(N2N_config)\n",
    "\n",
    "######\n",
    "### Defining a sequential vanilla input2node --> node2node pipeline ###\n",
    "I2N_sequential = Sequential_block(I2N_config, N2N_config)\n",
    "\n",
    "######\n",
    "### Defining parallel blocks of sequential vanilla input2node --> node2node pipelines### \n",
    "blocks = 3\n",
    "I2N_parallel = Parallel_block(I2N_config, N2N_config, blocks=blocks)\n",
    "#   The node2node block remains the same\n",
    "\n",
    "#   Defining the concatenation node2node block \n",
    "N2N_concat_config = {\n",
    "    \"layer_size\": blocks * N2N_config['layer_size'],\n",
    "    \"sparsity\": 1,\n",
    "    \"activation\": \"logistic\",\n",
    "    \"spectral_radius\": 1,\n",
    "    \"leakage\": 1,\n",
    "    \"bidirectional\": False,\n",
    "    \"random_seed\": None #42\n",
    "}\n",
    "N2N_parallel = Vanilla_node2node(N2N_concat_config)"
   ]
  },
  {
   "cell_type": "code",
   "execution_count": 15,
   "metadata": {},
   "outputs": [
    {
     "name": "stdout",
     "output_type": "stream",
     "text": [
      "WARNING: No convergence! Returning possibly invalid values!!!\n",
      "WARNING: No convergence! Returning possibly invalid values!!!\n",
      "WARNING: No convergence! Returning possibly invalid values!!!\n"
     ]
    }
   ],
   "source": [
    "# Lags to test\n",
    "lags = np.arange(-30,31)\n",
    "\n",
    "# Run RCC statistics -- Note: If it is only one sample then no statistics will be run\n",
    "mean_x2y, mean_y2x, _, _ = RCC_average(x, y, lags, I2N_Vanilla, N2N_Vanilla, split=75, skip=20, shuffle=False, axis=1)"
   ]
  },
  {
   "cell_type": "code",
   "execution_count": 17,
   "metadata": {},
   "outputs": [],
   "source": [
    "# Plot Causality\n",
    "# Plot Causality\n",
    "plot_RCC_Evidence(\n",
    "    lags,\n",
    "    {\"data\": mean_x2y[:,0], \"error\": mean_x2y[:,0]*0, \"label\": r\"$\\rho_{XY}$\", \"color\": \"darkorange\", \"style\": \"-\", \"linewidth\": 1, \"alpha\": 1}, \n",
    "    {\"data\": mean_y2x[:,0], \"error\": mean_x2y[:,0]*0, \"label\": r\"$\\rho_{YX}$\", \"color\": \"green\", \"style\": \"-\", \"linewidth\": 1, \"alpha\": 1}, \n",
    "    dpi=400, y_label=\"Scores\", x_label=r\"$\\tau$\"+\"(s)\", limits=(0,1), save=\"./bidirectional.svg\"\n",
    "    #significance_marks=[\n",
    "    #{\"data\": evidence_x2y, \"color\": \"blue\", \"label\": x2ylabel},\n",
    "    #{\"data\": evidence_y2x, \"color\": \"red\", \"label\": y2xlabel}\n",
    "    #    ]\n",
    "    )"
   ]
  },
  {
   "attachments": {},
   "cell_type": "markdown",
   "metadata": {},
   "source": [
    "### Multiple bidirectional causal relationships\n",
    "- $x(t+1) = x(t) \\left[ 3.78 - 3.78 x(t) + C^{y\\rightarrow x}_{\\tau_{d_1}}y(t-\\tau^{y\\rightarrow x}_{d_1}) + C^{y\\rightarrow x}_{\\tau_{d_2}}y(t-\\tau^{y\\rightarrow x}_{d_2}) + C^{y\\rightarrow x}_{\\tau_{d_3}}y(t-\\tau^{y\\rightarrow x}_{d_3}) + ... \\right]$\n",
    "- $y(t+1) = y(t) \\left[ 3.77 - 3.77 y(t) + C^{x\\rightarrow y}_{\\tau_{d_1}}x(t-\\tau^{x\\rightarrow y}_{d_1}) + C^{x\\rightarrow y}_{\\tau_{d_2}}x(t-\\tau^{x\\rightarrow y}_{d_2}) + C^{x\\rightarrow y}_{\\tau_{d_3}}x(t-\\tau^{x\\rightarrow y}_{d_3}) + ... \\right]$\n",
    "\n",
    "Here the complexity of the causal relationships is considerably increased, hence also the room for exploring parameters and architectures. \n",
    "\n",
    "##### If one of the causal couplings is way stronger than the other:\n",
    "It seems that nothing we do is able to distinguish all the relationships. It seems that the Vanilla Reservoir is not really able to disentangle the 4 causal relationships (only 2 of them), not even when drastically incrementing the number of neurons (e.g., $\\sim 1000$). Also increasing the modularity of the architecture achieves no improvement.\n",
    "\n",
    "##### If all causal couplings are more or less simialar:\n",
    "Once again the number of neurons is the best parameter to play with. The higher the number the better the reservoir is able to disentangle al causal relationships."
   ]
  },
  {
   "cell_type": "code",
   "execution_count": 21,
   "metadata": {},
   "outputs": [],
   "source": [
    "N_points = 7000 \n",
    "# x --> y\n",
    "t_lag_x2y_1, coupling_x2y_1 = 3, -0.01\n",
    "t_lag_x2y_2, coupling_x2y_2 = 10, -0.02\n",
    "# y --> x\n",
    "t_lag_y2x_1, coupling_y2x_1 = 2, -0.04\n",
    "t_lag_y2x_2, coupling_y2x_2 = 7, -0.02\n",
    "\n",
    "time_points = range(0, N_points)\n",
    "x, y = [], []\n",
    "x0, y0 = 0.1, 0.2\n",
    "x.append(x0), y.append(y0)\n",
    "\n",
    "for i in range(1, N_points):\n",
    "    xi = x[i-1]*(3.78-3.78*x[i-1])\n",
    "    yi = y[i-1]*(3.77-3.77*y[i-1])\n",
    "\n",
    "    # y --> x\n",
    "    if i >= t_lag_y2x_1:\n",
    "        xi += coupling_y2x_1 * x[i-1] * y[i-t_lag_y2x_1]\n",
    "    if i >= t_lag_y2x_2:\n",
    "        xi += coupling_y2x_2 * x[i-1] * y[i-t_lag_y2x_2]\n",
    "\n",
    "    # x --> y\n",
    "    if i >= t_lag_x2y_1:\n",
    "        yi += coupling_x2y_1 * y[i-1] * x[i-t_lag_x2y_1]\n",
    "    if i >= t_lag_x2y_2:\n",
    "        yi += coupling_x2y_2 * y[i-1] * x[i-t_lag_x2y_2]\n",
    "        \n",
    "    xi, yi = round(xi, 10), round(yi,10)\n",
    "    x.append(xi), y.append(yi)\n",
    "x, y = np.array(x), np.array(y)\n",
    "# Data needs to be loaded with shape: (Nsamples,Time-points)\n",
    "x, y = np.expand_dims(x, axis=0), np.expand_dims(y, axis=0)"
   ]
  },
  {
   "cell_type": "code",
   "execution_count": 22,
   "metadata": {},
   "outputs": [],
   "source": [
    "#### Input to Node object (see PyRCN docs for info about the meanings) ####\n",
    "I2N_config = { \n",
    "    \"layer_size\": 400,\n",
    "    \"sparsity\": 0.3,\n",
    "    \"activation\": \"identity\",\n",
    "    \"scaling\": 1,\n",
    "    \"shift\": 0,\n",
    "    \"bias_scaling\": 1,\n",
    "    \"bias_shift\": 0,\n",
    "    \"random_seed\": None #42\n",
    "}\n",
    "\n",
    "#### Node to Node object (see PyRCN docs for info about the meanings) ####\n",
    "N2N_config = {\n",
    "    \"layer_size\": 400,\n",
    "    \"sparsity\": 1,\n",
    "    \"activation\": \"logistic\",\n",
    "    \"spectral_radius\": 1,\n",
    "    \"leakage\": 1,\n",
    "    \"bidirectional\": False,\n",
    "    \"random_seed\": None #42\n",
    "}\n",
    "\n",
    "######\n",
    "### Defining vanilla input2node and node2node blocks ###\n",
    "I2N_Vanilla = Vanilla_input2node(I2N_config)\n",
    "N2N_Vanilla = Vanilla_node2node(N2N_config)\n",
    "\n",
    "######\n",
    "### Defining a sequential vanilla input2node --> node2node pipeline ###\n",
    "s_blocks = 3\n",
    "I2N_sequential = Sequential_block(I2N_config, N2N_config, blocks=s_blocks)\n",
    "\n",
    "######\n",
    "### Defining parallel blocks of sequential vanilla input2node --> node2node pipelines### \n",
    "p_blocks = 2\n",
    "I2N_parallel = Parallel_block(I2N_config, N2N_config, blocks=p_blocks)\n",
    "#   The node2node block remains the same\n",
    "\n",
    "#   Defining the concatenation node2node block \n",
    "N2N_concat_config = {\n",
    "    \"layer_size\": p_blocks * N2N_config['layer_size'],\n",
    "    \"sparsity\": 1,\n",
    "    \"activation\": \"logistic\",\n",
    "    \"spectral_radius\": 1,\n",
    "    \"leakage\": 1,\n",
    "    \"bidirectional\": False,\n",
    "    \"random_seed\": None #42\n",
    "}\n",
    "N2N_parallel = Vanilla_node2node(N2N_concat_config)"
   ]
  },
  {
   "cell_type": "code",
   "execution_count": 23,
   "metadata": {},
   "outputs": [
    {
     "name": "stdout",
     "output_type": "stream",
     "text": [
      "WARNING: No convergence! Returning possibly invalid values!!!\n"
     ]
    }
   ],
   "source": [
    "# Lags to test\n",
    "lags = np.arange(-30,31)\n",
    "\n",
    "# Run RCC statistics -- Note: If it is only one sample then no statistics will be run\n",
    "mean_x2y, mean_y2x, _, _ = RCC_average(x, y, lags, I2N_Vanilla, N2N_Vanilla, split=75, skip=20, shuffle=False, axis=1)"
   ]
  },
  {
   "cell_type": "code",
   "execution_count": 20,
   "metadata": {},
   "outputs": [],
   "source": [
    "# Plot Causality\n",
    "plot_RCC_Evidence(\n",
    "    lags,\n",
    "    {\"data\": mean_x2y[:,0], \"error\": mean_y2x[:,0]*0, \"label\": r\"$\\rho_{XY}$\", \"color\": \"darkorange\", \"style\": \"-\", \"linewidth\": 1, \"alpha\": 1}, \n",
    "    {\"data\": mean_y2x[:,0], \"error\": mean_y2x[:,0]*0, \"label\": r\"$\\rho_{YX}$\", \"color\": \"green\", \"style\": \"-\", \"linewidth\": 1, \"alpha\": 1}, \n",
    "    dpi=400, y_label=\"Scores\", x_label=r\"$\\tau$\"+\"(steps)\", limits=(0,1), save=\"./multiple.svg\"\n",
    "    #significance_marks=[\n",
    "    #{\"data\": evidence_x2y, \"color\": \"blue\", \"label\": x2ylabel},\n",
    "    #{\"data\": evidence_y2x, \"color\": \"red\", \"label\": y2xlabel}\n",
    "    #    ]\n",
    "    )"
   ]
  },
  {
   "attachments": {},
   "cell_type": "markdown",
   "metadata": {},
   "source": [
    "### Time dependent causal couplings\n",
    "\n",
    "We have now seen that the reservoir can detect multiple causal bidirectional relationships, although the ability to disentangle all of them is highly dependent on two things. \n",
    "\n",
    "- The number of neurons in the reservoir is more descriptive of explanatory power than the deepness of the architecture. It remains to be checked whether the sparsity affects the results. The spectral radius was also checked in Huang, et al. 2020 so I wouldn't say we should do it again.\n",
    "- The relative difference between coupling strengths. If one of the coupling relationships is significantly stronger than the rest, the reservoir will interpret that there is only one causal link between the time series. Trying to solve this problem might be require an extensive architecture search (e.g., exploring DL paradigms like in MICCAI 2022 PAPER).\n",
    "\n",
    "The goal is to be able to disentangle causal relationships in fMRI time series which might be fundamentally different than what we have tried here. For this purpose, we designed a more realistic, yet still simplistic, dynamic system where the coupling is time dependent."
   ]
  }
 ],
 "metadata": {
  "kernelspec": {
   "display_name": "reservoir-computing",
   "language": "python",
   "name": "python3"
  },
  "language_info": {
   "codemirror_mode": {
    "name": "ipython",
    "version": 3
   },
   "file_extension": ".py",
   "mimetype": "text/x-python",
   "name": "python",
   "nbconvert_exporter": "python",
   "pygments_lexer": "ipython3",
   "version": "3.10.9"
  },
  "vscode": {
   "interpreter": {
    "hash": "bbfc72ab2f011d3744e16a4b3cc4780dfba513ec316c52085f78a10198ff66c9"
   }
  }
 },
 "nbformat": 4,
 "nbformat_minor": 2
}
